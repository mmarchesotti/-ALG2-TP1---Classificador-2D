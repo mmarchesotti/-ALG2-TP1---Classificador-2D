{
  "nbformat": 4,
  "nbformat_minor": 0,
  "metadata": {
    "colab": {
      "provenance": [],
      "collapsed_sections": [
        "q587sOKrmnAU",
        "kt-1x-ykmp5b",
        "WryegprTnHvR",
        "M2EI_Z7hnNdT",
        "BAoHZ2V94hDL",
        "Ygd5gid4pZIv",
        "reH_K9lktA9N",
        "GaVwvazotzWG",
        "xi0waW8ovCez",
        "ExDxMHHUvYbB",
        "FLPGogRHvZHx",
        "1R-tmFagvZUW",
        "6DgJfta0vZhd"
      ]
    },
    "kernelspec": {
      "name": "python3",
      "display_name": "Python 3"
    },
    "language_info": {
      "name": "python"
    }
  },
  "cells": [
    {
      "cell_type": "markdown",
      "source": [
        "**Grupo**: \n",
        "*   Ana Flávia - 2020006353\n",
        "*   Lucas Jacone - 2019006922\n",
        "*   Matheus Marchesotti - 2019007015"
      ],
      "metadata": {
        "id": "8Dy_-jYwsSJS"
      }
    },
    {
      "cell_type": "markdown",
      "source": [
        "# Funções da Parte 1"
      ],
      "metadata": {
        "id": "-LdazAMtdv2q"
      }
    },
    {
      "cell_type": "code",
      "source": [
        "from functools import cmp_to_key\n",
        "import matplotlib.pyplot as plt\n",
        "import numpy as np"
      ],
      "metadata": {
        "id": "KZGQUhJU7scd"
      },
      "execution_count": 1,
      "outputs": []
    },
    {
      "cell_type": "code",
      "source": [
        "# Classe de um ponto de duas dimensões\n",
        "class Ponto:\n",
        "  def __init__(self, x, y):\n",
        "    self.x = x\n",
        "    self.y = y\n",
        "\n",
        "  # Overload do operador - para subtração entre pontos\n",
        "  def __sub__(self, p2):\n",
        "    return Ponto(self.x - p2.x, self.y - p2.y)"
      ],
      "metadata": {
        "id": "tLY_o9LP7wsq"
      },
      "execution_count": 2,
      "outputs": []
    },
    {
      "cell_type": "code",
      "source": [
        "# Retorna o quadrado da distância entre dois pontos\n",
        "def distancia(p1, p2):\n",
        "  return (p1.x - p2.x)*(p1.x - p2.x) + (p1.y - p2.y)*(p1.y - p2.y)"
      ],
      "metadata": {
        "id": "DJ5ehAXj7x4M"
      },
      "execution_count": 3,
      "outputs": []
    },
    {
      "cell_type": "code",
      "source": [
        "# Retorna o ponto da terceira dimensão de um produto vetorial entre dois pontos\n",
        "def produtoVetorial(p0, p1, p2):\n",
        "  return (p1.x-p0.x)*(p2.y-p0.y)-(p2.x-p0.x)*(p1.y-p0.y)"
      ],
      "metadata": {
        "id": "cBaaGkre7zz0"
      },
      "execution_count": 4,
      "outputs": []
    },
    {
      "cell_type": "code",
      "source": [
        "# Função de comparação para ordenar os pontos quanto ao ângulo polar\n",
        "# em relação a 'p0' \n",
        "def comparaSentido(p1, p2):\n",
        "  pv = produtoVetorial(p0, p1, p2)\n",
        "\n",
        "  if pv == 0:\n",
        "    return 1 if distancia(p0, p1) > distancia(p0, p2) else -1\n",
        "  return -1 if pv > 0 else 1"
      ],
      "metadata": {
        "id": "1d0CbpAl70_M"
      },
      "execution_count": 5,
      "outputs": []
    },
    {
      "cell_type": "code",
      "source": [
        "def envoltoriaConvexa(pontos):\n",
        "  # Checa se há pontos suficientes para formar uma envoltória\n",
        "  quantidade = len(pontos)\n",
        "  if quantidade <3:\n",
        "    return []\n",
        "\n",
        "  # Define p0 como o ponto com menor 'y' desempatado pelo menor 'x'\n",
        "  pontos.sort(key=lambda p: (p.y, p.x))\n",
        "\n",
        "  envoltoria = []\n",
        "  global p0\n",
        "  p0 = pontos[0]\n",
        "  envoltoria.append(p0)\n",
        "\n",
        "  # Ordena os outros pontos de acordo com seu ângulo polar em relação a p0\n",
        "  pontos[1:] = sorted(pontos[1:], key = cmp_to_key(comparaSentido))\n",
        "\n",
        "  # Cria uma nova lista sem pontos colineares em relação a p0 \n",
        "  # (mantém o mais distante)\n",
        "  pontos_validos = [p0, pontos[1]]\n",
        "  for i in range(2, quantidade):\n",
        "    if produtoVetorial(p0, pontos[i], pontos[i-1]) == 0:\n",
        "      pontos_validos[-1]=pontos[i]\n",
        "    else:\n",
        "      pontos_validos.append(pontos[i])\n",
        "\n",
        "  # Checa se há pontos suficientes para formar uma envoltória\n",
        "  if len(pontos_validos) < 3:\n",
        "    return []\n",
        "\n",
        "  # Constrói uma envoltória inicial com os primeiros 3 pontos sem \n",
        "  # colinearidade\n",
        "  envoltoria.append(pontos_validos[1])\n",
        "  envoltoria.append(pontos_validos[2])\n",
        "\n",
        "  # Adiciona os pontos restantes na envoltória, checando a consistência da\n",
        "  # convexidade\n",
        "  for p in pontos_validos[3:]:\n",
        "    while(produtoVetorial(envoltoria[-2], envoltoria[-1], p) < 0):\n",
        "      envoltoria.pop(-1)\n",
        "    envoltoria.append(p)\n",
        "      \n",
        "  return envoltoria"
      ],
      "metadata": {
        "id": "ia1tMx-971nq"
      },
      "execution_count": 6,
      "outputs": []
    },
    {
      "cell_type": "markdown",
      "source": [
        "# Funções da Parte 2"
      ],
      "metadata": {
        "id": "vWYCiJatdt3r"
      }
    },
    {
      "cell_type": "code",
      "source": [
        "# Classe de um segmento formado entre dois pontos. \n",
        "# 'esquerda' é o ponto de menor x\n",
        "class Segmento:    \n",
        "  def __init__(self, esquerda, direita):\n",
        "    self.esquerda = esquerda\n",
        "    self.direita = direita\n",
        "\n",
        "  # Overload do operador '<' para encontrar a posição relativa entre segmentos\n",
        "  # ativos na varredura\n",
        "  def __lt__(self, e2):\n",
        "    if self.esquerda.y == e2.esquerda.y:\n",
        "      if self.esquerda.x == e2.esquerda.x:\n",
        "        if self.direita.y == e2.direita.y:\n",
        "          return self.direita.x < e2.direita.x\n",
        "        return self.direita.y < e2.direita.y        \n",
        "      return self.esquerda.x < e2.esquerda.x\n",
        "    return self.esquerda.y < e2.esquerda.y    "
      ],
      "metadata": {
        "id": "MxBrMKLV8m9b"
      },
      "execution_count": 7,
      "outputs": []
    },
    {
      "cell_type": "code",
      "source": [
        "# Classe de cada evento, que são os pontos de inserção ou remoção de um segmento\n",
        "# na varredura linear\n",
        "class Evento:\n",
        "  def __init__(self, x, y, isLeft, s, classe):\n",
        "    self.x = x\n",
        "    self.y = y\n",
        "    self.isLeft = isLeft\n",
        "    self.s = s\n",
        "    self.classe = classe\n",
        "\n",
        "  # Overload do operador '<' para encontrar a ordem que os eventos devem ser \n",
        "  # inseridos na varredura\n",
        "  def __lt__(self, e2):\n",
        "    if self.x == e2.x:\n",
        "      if self.isLeft == e2.isLeft:\n",
        "        return self.y < e2.y\n",
        "      return self.isLeft\n",
        "    return self.x < e2.x"
      ],
      "metadata": {
        "id": "ippKtN-c-GiP"
      },
      "execution_count": 8,
      "outputs": []
    },
    {
      "cell_type": "code",
      "source": [
        "# Checa se um ponto 'p2' está sobre o segmento 'p1p3'\n",
        "def noSegmento(p1, p3, p2):\n",
        "  return (p2.x <= max(p1.x, p3.x) and p2.x >= min(p1.x, p3.x) and \n",
        "          p2.y <= max(p1.y, p3.y) and p2.y >= min(p1.y, p3.y))"
      ],
      "metadata": {
        "id": "yQN6zX3tPi73"
      },
      "execution_count": 9,
      "outputs": []
    },
    {
      "cell_type": "code",
      "source": [
        "# Checa se dois segmentos 's1' e 's2' se intersectam\n",
        "def segmentosIntersectam(s1, s2):\n",
        "  p1 = s1.esquerda\n",
        "  p2 = s1.direita\n",
        "  p3 = s2.esquerda\n",
        "  p4 = s2.direita\n",
        "\n",
        "  pv1 = produtoVetorial(p3, p4, p1)\n",
        "  pv2 = produtoVetorial(p3, p4, p2)\n",
        "  pv3 = produtoVetorial(p1, p2, p3)\n",
        "  pv4 = produtoVetorial(p1, p2, p4)\n",
        "\n",
        "  # Checa se os segmentos formam um \"X\" \n",
        "  if ((pv1>0 and pv2<0 or pv1<0 and pv2>0) and \n",
        "      (pv3>0 and pv4<0 or pv3<0 and pv4>0)):\n",
        "    return True\n",
        "  \n",
        "  #Checa se um dos pontos de um segmento está sobre outro segmento\n",
        "  if pv1 == 0 and noSegmento(p3, p4, p1):\n",
        "    return True\n",
        "  if pv2 == 0 and noSegmento(p3, p4, p2):\n",
        "    return True\n",
        "  if pv3 == 0 and noSegmento(p1, p2, p3):\n",
        "    return True\n",
        "  if pv4 == 0 and noSegmento(p1, p2, p4):\n",
        "    return True\n",
        "\n",
        "  return False"
      ],
      "metadata": {
        "id": "35ZgKGX2PdCR"
      },
      "execution_count": 10,
      "outputs": []
    },
    {
      "cell_type": "code",
      "source": [
        "# Encontra o índice do primeiro evento na varredura que não é menor que 'e'\n",
        "def lowerBound(varredura, e):    \n",
        "  ini = 0\n",
        "  fim = len(varredura)-1\n",
        "\n",
        "  while(ini < fim):\n",
        "    meio = (ini+fim)//2\n",
        "    \n",
        "    if varredura[meio].s < e.s:\n",
        "      ini = meio+1\n",
        "    else:\n",
        "      fim = meio\n",
        "\n",
        "  return ini"
      ],
      "metadata": {
        "id": "KPmc6z6LOUOb"
      },
      "execution_count": 11,
      "outputs": []
    },
    {
      "cell_type": "code",
      "source": [
        "# Encontra o índice do último evento na varredura que não é maior que 'e'\n",
        "def upperBound(varredura, e):\n",
        "  ini = 0\n",
        "  fim = len(varredura)-1\n",
        "\n",
        "  while(ini < fim):\n",
        "    meio = (ini+fim)//2\n",
        "    \n",
        "    if varredura[meio].s > e.s:\n",
        "      fim = meio\n",
        "    else:\n",
        "      ini = meio+1\n",
        "\n",
        "  return ini"
      ],
      "metadata": {
        "id": "gKUoDSIGOWU3"
      },
      "execution_count": 12,
      "outputs": []
    },
    {
      "cell_type": "code",
      "source": [
        "# Insere um evento 'e' na varredura\n",
        "def inserirEvento(varredura, e):\n",
        "  # Checa se a varredura está vazia\n",
        "  if len(varredura) == 0:\n",
        "      varredura.insert(0, e)\n",
        "\n",
        "  # Checa se o evento deve ser o primeiro ou segundo da varredura\n",
        "  elif lowerBound(varredura, e) == 0 and varredura[0].s > e.s:\n",
        "      varredura.insert(0, e)\n",
        "  else:\n",
        "    varredura.insert(lowerBound(varredura, e)+1, e)\n",
        "\n",
        "  return"
      ],
      "metadata": {
        "id": "xwMMBFQTOWa2"
      },
      "execution_count": 13,
      "outputs": []
    },
    {
      "cell_type": "code",
      "source": [
        "# Remove um evento na varredura\n",
        "def removerEvento(varredura, e):\n",
        "  # Encontra o evento correspondente à extremidade da esquerda do evento 'e' que \n",
        "  # foi inserido, tendo em vista que o evento 'e' é a extremidade da direita de \n",
        "  # um segmento\n",
        "  inserido = Evento(e.s.esquerda.x, e.s.esquerda.y, 1, e.s, e.classe)\n",
        "  \n",
        "  # Deleta esse evento\n",
        "  del varredura[lowerBound(varredura, inserido)]\n",
        "  return"
      ],
      "metadata": {
        "id": "5prMjGSwO1b-"
      },
      "execution_count": 14,
      "outputs": []
    },
    {
      "cell_type": "code",
      "source": [
        "# Encontra o evento na varredura logo abaixo de um evento 'e' \n",
        "def eventoAnterior(varredura, e):\n",
        "  # Checa se a varredura está vazia\n",
        "  if len(varredura) == 0:\n",
        "    return None\n",
        "\n",
        "  # Encontra o possível índice do evento anterior\n",
        "  indice = lowerBound(varredura, e)\n",
        "\n",
        "  # Checa se esse evento anterior existe\n",
        "  if indice == 0 and varredura[0] == e:\n",
        "    return None\n",
        "\n",
        "  return varredura[indice]"
      ],
      "metadata": {
        "id": "h3BZUdkfOWiM"
      },
      "execution_count": 15,
      "outputs": []
    },
    {
      "cell_type": "code",
      "source": [
        "# Encontra o evento na varredura logo acima de um evento 'e' \n",
        "def eventoPosterior(varredura, e):\n",
        "  # Checa se a varredura está vazia\n",
        "  if len(varredura) == 0:\n",
        "    return None\n",
        "    \n",
        "  # Encontra o possível índice do evento posterior\n",
        "  indice = upperBound(varredura, e)\n",
        "  \n",
        "  # Checa se esse evento posterior existe\n",
        "  if indice == len(varredura)-1:\n",
        "    return None\n",
        "\n",
        "  return varredura[indice+1]"
      ],
      "metadata": {
        "id": "v19zcPheOWp7"
      },
      "execution_count": 16,
      "outputs": []
    },
    {
      "cell_type": "code",
      "source": [
        "# Encontra quais segmentos compoem uma envoltória\n",
        "# a partir da ordem de seus vértices\n",
        "def segmentosDaEnvoltoria(env):\n",
        "  segmentos = []\n",
        "\n",
        "  # Segmento entre o primeiro e o último ponto da envoltória\n",
        "  p1 = env[0]\n",
        "  p2 = env[-1]\n",
        "  # Verifica qual ponto do segmento deve ser 'esquerda' e qual 'direita' \n",
        "  if p1.x < p2.x:\n",
        "    segmentos.append(Segmento(p1, p2))\n",
        "  else:    \n",
        "    segmentos.append(Segmento(p2, p1))\n",
        "\n",
        "  # Repete para todo par de vértices consecutivos\n",
        "  for i in range(1, len(env)):\n",
        "    p1 = env[i]\n",
        "    p2 = env[i-1]\n",
        "    # Verifica qual ponto do segmento deve ser 'esquerda' e qual 'direita' \n",
        "    if p1.x < p2.x:\n",
        "      segmentos.append(Segmento(p1, p2))\n",
        "    else:    \n",
        "      segmentos.append(Segmento(p2, p1))\n",
        "      \n",
        "  return segmentos"
      ],
      "metadata": {
        "id": "1Q_SFdkCYoyV"
      },
      "execution_count": 17,
      "outputs": []
    },
    {
      "cell_type": "code",
      "source": [
        "# Encontra a ordem em que os segmentos de duas envoltórias devem ser inseridos \n",
        "# ou removidos da varredura \n",
        "def criarEventos(segmentos1, segmentos2):\n",
        "  eventos = []\n",
        "  \n",
        "  # Repete para todo segmento na envoltória 1\n",
        "  for seg in segmentos1:\n",
        "    # Cria o evento de inserção do segmento\n",
        "    e1 = Evento(seg.esquerda.x, seg.esquerda.y, 1, seg, 1)\n",
        "    eventos.append(e1)\n",
        "    # Cria o evento de remoção do segmento\n",
        "    e2 = Evento(seg.direita.x, seg.direita.y, 0, seg, 1)\n",
        "    eventos.append(e2)\n",
        "\n",
        "  # Repete para todo segmento na envoltória 2\n",
        "  for seg in segmentos2:\n",
        "    # Cria o evento de inserção do segmento\n",
        "    e1 = Evento(seg.esquerda.x, seg.esquerda.y, 1, seg, 2)\n",
        "    eventos.append(e1)\n",
        "    # Cria o evento de inserção do segmento\n",
        "    e2 = Evento(seg.direita.x, seg.direita.y, 0, seg, 2)\n",
        "    eventos.append(e2)\n",
        "\n",
        "  # Ordena os eventos utilizando o operador sobrecarregado '<'\n",
        "  return sorted(eventos)"
      ],
      "metadata": {
        "id": "mHOwy7x89630"
      },
      "execution_count": 18,
      "outputs": []
    },
    {
      "cell_type": "code",
      "source": [
        "# Função que retorna se houve ou não interseção entre os lados de duas \n",
        "# envoltórias convexas\n",
        "def intersecaoEmConjunto(eventos):\n",
        "  varredura = []\n",
        "\n",
        "  # Repete para cada evento de inserção ou remoção na varredura\n",
        "  for evento_atual in eventos:\n",
        "    # Se o evento é de inserção\n",
        "    if evento_atual.isLeft:\n",
        "      # Encontra o evento logo abaixo\n",
        "      evento_anterior = eventoAnterior(varredura, evento_atual)\n",
        "      # Encontra o evento logo acima\n",
        "      evento_posterior = eventoPosterior(varredura, evento_atual)\n",
        "\n",
        "      # Insere o segmento na varredura\n",
        "      inserirEvento(varredura, evento_atual)\n",
        "\n",
        "      # Compara o evento inserido com o evento logo abaixo\n",
        "      if (evento_anterior is not None and \n",
        "          evento_anterior.classe!=evento_atual.classe):\n",
        "        if segmentosIntersectam(evento_anterior.s, evento_atual.s):\n",
        "          return True\n",
        "      # Compara o evento inserido com o evento logo acima\n",
        "      if (evento_posterior is not None and \n",
        "          evento_posterior.classe!=evento_atual.classe):\n",
        "        if segmentosIntersectam(evento_posterior.s, evento_atual.s):\n",
        "          return True\n",
        "    # Se o evento é de remoção\n",
        "    else:\n",
        "      # Remove o segmento da varredura\n",
        "      removerEvento(varredura, evento_atual)\n",
        "      \n",
        "      # Encontra o evento logo abaixo\n",
        "      evento_anterior = eventoAnterior(varredura, evento_atual)\n",
        "      # Encontra o evento logo acima\n",
        "      evento_posterior = eventoPosterior(varredura, evento_atual)\n",
        "\n",
        "      # Compara o evento logo abaixo e o evento logo acima\n",
        "      if (evento_anterior is not None and evento_posterior is not None and\n",
        "          evento_anterior.classe!=evento_posterior.classe):\n",
        "        if segmentosIntersectam(evento_anterior.s, evento_posterior.s):\n",
        "          return True\n",
        "          \n",
        "  return False"
      ],
      "metadata": {
        "id": "-piaUfLT-tHU"
      },
      "execution_count": 19,
      "outputs": []
    },
    {
      "cell_type": "markdown",
      "source": [
        "# Funções da Parte 3"
      ],
      "metadata": {
        "id": "CbrGYdwJd30Q"
      }
    },
    {
      "cell_type": "code",
      "source": [
        "# Função para plotar duas envoltórias\n",
        "def plotarParDeEnvoltorias(env1, env2):\n",
        "  fig, ax = plt.subplots()  \n",
        "  fig.set_size_inches(5, 3.5)\n",
        "  ax.plot([env1[0].x, env1[len(env1)-1].x], \n",
        "          [env1[0].y, env1[len(env1)-1].y], 'bo-', label = 'Envoltória 1')\n",
        "  for i in range(1, len(env1)):\n",
        "    plt.plot([env1[i].x, env1[i-1].x], [env1[i].y, env1[i-1].y], 'bo-')\n",
        "\n",
        "  ax.plot([env2[0].x, env2[len(env2)-1].x], \n",
        "          [env2[0].y, env2[len(env2)-1].y], 'ro-', label = 'Envoltória 2')\n",
        "  for i in range(1, len(env2)):\n",
        "    plt.plot([env2[i].x, env2[i-1].x], [env2[i].y, env2[i-1].y], 'ro-')\n",
        "\n",
        "  return fig, ax"
      ],
      "metadata": {
        "id": "CiG5_QwVVB8r"
      },
      "execution_count": 20,
      "outputs": []
    },
    {
      "cell_type": "markdown",
      "source": [
        "# Funções das Partes 4 e 5"
      ],
      "metadata": {
        "id": "FTuP7YIg35c9"
      }
    },
    {
      "cell_type": "code",
      "source": [
        "def encontrarVerticesMaisProximos(env1, env2, plotar=False):\n",
        "  # Plota as duas envoltórias\n",
        "  if plotar:\n",
        "    fig, ax = plotarParDeEnvoltorias(env1, env2)\n",
        "\n",
        "  # Encontra o índice do ponto mais abaixo da envoltória 1 e do ponto mais acima\n",
        "  # da envoltória 2 e os define como os primeiros pontos na análise\n",
        "  p1 = sorted(env1, key=lambda p: (p.y, p.x))[0]\n",
        "  p2 = sorted(env2, key=lambda p: (p.y, p.x))[-1]\n",
        "  inicial1 = env1.index(p1)\n",
        "  inicial2 = env2.index(p2)\n",
        "  atual1 = inicial1\n",
        "  atual2 = inicial2\n",
        "  visitados1 = 0\n",
        "  visitados2 = 0\n",
        "\n",
        "  # Plota o segmento sendo analisado na iteração\n",
        "  if plotar:\n",
        "    ax.plot([p1.x, p2.x], [p1.y, p2.y], 'ko-')\n",
        "    ax.legend()\n",
        "    plt.show()\n",
        "\n",
        "  # Inicializa o segmento de menor distância até então\n",
        "  distancia_min = distancia(env1[atual1], env2[atual2])\n",
        "  segmento_min = Segmento(env1[atual1], env2[atual2])\n",
        "  indice_min_env1 = atual1\n",
        "  indice_min_env2 = atual2\n",
        "\n",
        "  # Encontra próximo segmento a ser analizado\n",
        "  proximo1 = atual1+1 if atual1!=len(env1)-1 else 0\n",
        "  proximo2 = atual2+1 if atual2!=len(env2)-1 else 0\n",
        "  if produtoVetorial(Ponto(0, 0), env1[atual1]-env1[proximo1], \n",
        "                    env2[atual2]-env2[proximo2]) < 0:\n",
        "    atual2 = proximo2\n",
        "    visitados2+=1\n",
        "  else:\n",
        "    atual1 = proximo1\n",
        "    visitados1+=1\n",
        "\n",
        "  # Repete até passar por todos os pares possíveis\n",
        "  while(visitados1<=len(env1) and visitados2<=len(env2)):\n",
        "    # Plota as duas envoltórias e o segmento sendo analisado na iteração\n",
        "    if plotar:\n",
        "      fig, ax = plotarParDeEnvoltorias(env1, env2)\n",
        "\n",
        "      ax.plot([env1[atual1].x, env2[atual2].x], \n",
        "              [env1[atual1].y, env2[atual2].y], 'ko-')\n",
        "\n",
        "      ax.legend()\n",
        "      plt.show()\n",
        "\n",
        "    # Verifica se a distância atual é a menor calculada até então\n",
        "    if distancia(env1[atual1], env2[atual2]) < distancia_min:\n",
        "      distancia_min = distancia(env1[atual1], env2[atual2])\n",
        "      segmento_min = Segmento(env1[atual1], env2[atual2])\n",
        "      indice_min_env1 = atual1\n",
        "      indice_min_env2 = atual2\n",
        "\n",
        "    # Encontra próximo segmento a ser analizado\n",
        "    proximo1 = atual1+1 if atual1!=len(env1)-1 else 0\n",
        "    proximo2 = atual2+1 if atual2!=len(env2)-1 else 0\n",
        "    if produtoVetorial(Ponto(0, 0), env1[atual1]-env1[proximo1], \n",
        "                      env2[atual2]-env2[proximo2]) > 0:\n",
        "      atual2 = proximo2\n",
        "      visitados2+=1\n",
        "    else:\n",
        "      atual1 = proximo1\n",
        "      visitados1+=1\n",
        "\n",
        "  return segmento_min, indice_min_env1, indice_min_env2"
      ],
      "metadata": {
        "id": "prxYQwf2d6bt"
      },
      "execution_count": 21,
      "outputs": []
    },
    {
      "cell_type": "code",
      "source": [
        "# Classe de uma reta y = ax + b \n",
        "class Reta:\n",
        "  def __init__(self, a, b):\n",
        "    self.a = a\n",
        "    self.b = b"
      ],
      "metadata": {
        "id": "sw4sFF3wWuFd"
      },
      "execution_count": 22,
      "outputs": []
    },
    {
      "cell_type": "code",
      "source": [
        "# Encontra a reta y' = a'x + b' perpendicular a uma reta r \n",
        "# que passe por um ponto p\n",
        "def retaPerpendicular(r, p):\n",
        "  # Inclinação da reta (a')\n",
        "  a2 = -1/r.a\n",
        "  # Desvio vertical em relação à origem (b')\n",
        "  b2 = p.y - a2*p.x\n",
        "\n",
        "  r2 = Reta(a2, b2)\n",
        "  return r2"
      ],
      "metadata": {
        "id": "VadrpoojW2fY"
      },
      "execution_count": 23,
      "outputs": []
    },
    {
      "cell_type": "code",
      "source": [
        "# Encontra a reta y = ax + b que contém o segmento s\n",
        "def retaDoSegmento(s):\n",
        "  # Inclinação da reta (a)\n",
        "  if (s.esquerda.x-s.direita.x) == 0:\n",
        "    a = np.Inf\n",
        "  else:\n",
        "    a = (s.esquerda.y-s.direita.y)/(s.esquerda.x-s.direita.x)\n",
        "  # Desvio vertical em relação à origem (b)\n",
        "  b = s.esquerda.y - a*s.esquerda.x\n",
        "\n",
        "  r = Reta(a, b)\n",
        "  return r"
      ],
      "metadata": {
        "id": "MVjobZ4NWahr"
      },
      "execution_count": 24,
      "outputs": []
    },
    {
      "cell_type": "code",
      "source": [
        "# função y(x) da reta y = ax + b\n",
        "def funcaoDaReta(r):\n",
        "  # Define a função da reta e a retorna\n",
        "  def f(x):\n",
        "    return r.a*x + r.b\n",
        "\n",
        "  return f"
      ],
      "metadata": {
        "id": "yogVu_zbRr5S"
      },
      "execution_count": 25,
      "outputs": []
    },
    {
      "cell_type": "code",
      "source": [
        "# Encontra o ponto de interseção entre duas retas\n",
        "def pontoDeIntersecao(reta1, reta2):\n",
        "  x = (reta2.b - reta1.b)/(reta1.a - reta2.a)\n",
        "\n",
        "  f = funcaoDaReta(reta1)\n",
        "\n",
        "  return Ponto(x, f(x))"
      ],
      "metadata": {
        "id": "2VNw5ztkYPsq"
      },
      "execution_count": 26,
      "outputs": []
    },
    {
      "cell_type": "markdown",
      "source": [
        "# Funções da Parte 6"
      ],
      "metadata": {
        "id": "MYFzovZ64Lnu"
      }
    },
    {
      "cell_type": "code",
      "source": [
        "from sklearn.metrics import precision_score, recall_score, f1_score"
      ],
      "metadata": {
        "id": "7ePVnNNt05Kv"
      },
      "execution_count": 27,
      "outputs": []
    },
    {
      "cell_type": "markdown",
      "source": [
        "# Experimento 1 - Iris plants dataset"
      ],
      "metadata": {
        "id": "rfgblwBJqe2H"
      }
    },
    {
      "cell_type": "code",
      "source": [
        "from sklearn.model_selection import train_test_split\n",
        "import pandas as pd\n",
        "\n",
        "# Le o arquivo com os dados\n",
        "df = pd.read_csv('/content/sample_data/iris.csv')\n",
        "# Seleciona as colunas de interesse\n",
        "df.drop(df.columns[[2,3]], axis=1, inplace=True)\n",
        "df.to_numpy()\n",
        "\n",
        "# Separa os dados de teste\n",
        "train, test = train_test_split(df, train_size=0.7)\n",
        "classe1 = ' Iris-setosa'\n",
        "classe2 = ' Iris-versicolor'\n",
        "\n",
        "# Cria os objetos da classe Ponto a partir dos atributos escolhidos\n",
        "pontos1 = []\n",
        "pontos2 = []\n",
        "for row in train.iterrows():\n",
        "  if list(row)[1][2] == classe1:\n",
        "    pontos1.append(Ponto(float(list(row)[1][0]), float(list(row)[1][1])))\n",
        "  elif list(row)[1][2] == classe2:\n",
        "    pontos2.append(Ponto(float(list(row)[1][0]), float(list(row)[1][1])))"
      ],
      "metadata": {
        "id": "kJ6lmEN84ORa"
      },
      "execution_count": 28,
      "outputs": []
    },
    {
      "cell_type": "markdown",
      "source": [
        "#### Parte 1"
      ],
      "metadata": {
        "id": "0ZWav86QmgYl"
      }
    },
    {
      "cell_type": "markdown",
      "source": [
        "Para encontrar a envoltória convexa foi utilizada a Varredura de Graham, implementado na função \"envoltoriaConvexa\"."
      ],
      "metadata": {
        "id": "Cw2ZS69A50oF"
      }
    },
    {
      "cell_type": "code",
      "source": [
        "# Encontra a envoltória convexa dos pontos da classe1\n",
        "env1 = envoltoriaConvexa(pontos1)"
      ],
      "metadata": {
        "id": "4xNL5X8pBjkD"
      },
      "execution_count": 29,
      "outputs": []
    },
    {
      "cell_type": "code",
      "source": [
        "# Encontra a envoltória convexa dos pontos da classe2\n",
        "env2 = envoltoriaConvexa(pontos2)"
      ],
      "metadata": {
        "id": "3elkw2xQJXTC"
      },
      "execution_count": 30,
      "outputs": []
    },
    {
      "cell_type": "code",
      "source": [
        "# Plota as envoltórias encontradas\n",
        "plt.plot([env1[0].x, env1[len(env1)-1].x], [env1[0].y, env1[len(env1)-1].y], 'bo-', label = classe1)\n",
        "for i in range(1, len(env1)):\n",
        "  plt.plot([env1[i].x, env1[i-1].x], [env1[i].y, env1[i-1].y], 'bo-')\n",
        "\n",
        "plt.plot([env2[0].x, env2[len(env2)-1].x], [env2[0].y, env2[len(env2)-1].y], 'ro-', label = classe2)\n",
        "for i in range(1, len(env2)):\n",
        "  plt.plot([env2[i].x, env2[i-1].x], [env2[i].y, env2[i-1].y], 'ro-')\n",
        "\n",
        "plt.legend()\n",
        "plt.show()"
      ],
      "metadata": {
        "colab": {
          "base_uri": "https://localhost:8080/",
          "height": 268
        },
        "id": "nk-nJPbhBckY",
        "outputId": "d1268480-9b37-41e4-ddc4-45e04e624be1"
      },
      "execution_count": 31,
      "outputs": [
        {
          "output_type": "display_data",
          "data": {
            "text/plain": [
              "<Figure size 432x288 with 1 Axes>"
            ],
            "image/png": "[encoded data removed]"
          },
          "metadata": {
            "needs_background": "light"
          }
        }
      ]
    },
    {
      "cell_type": "markdown",
      "source": [
        "#### Parte 2"
      ],
      "metadata": {
        "id": "q587sOKrmnAU"
      }
    },
    {
      "cell_type": "markdown",
      "source": [
        "Para a verificação da separabilidade linear, foi utilizada a detecção de interseções em um conjunto de segmentos por meio de uma varredura linear que compara um segmento apenas com os segmentos diretamente superiores e inferiores ao inserí-lo na varredura e compara os segmentos diretamente superiores e inferiores entre si ao remover um segmento. \n",
        "\n",
        "Há uma modificação que determina que ao tentar comparar dois segmentos de uma mesma envoltória, essa comparação é ignorada e é feita outra comparação entre o próximo par tal que os dois segmentos pertencem a envoltórias diferentes. Essa implementação está na função \"intersecaoEmConjuntos\", que retorna True se há interseção entre as envoltórias e, portanto, não é possível fazer uma separação linear, e retorna False caso contrário."
      ],
      "metadata": {
        "id": "rJbtLz2y5VI7"
      }
    },
    {
      "cell_type": "code",
      "source": [
        "# Encontra os segmentos que compoem as envoltórias convexas\n",
        "segmentos1 = segmentosDaEnvoltoria(env1)\n",
        "segmentos2 = segmentosDaEnvoltoria(env2)"
      ],
      "metadata": {
        "id": "zNs2o7tcDaZ2"
      },
      "execution_count": 32,
      "outputs": []
    },
    {
      "cell_type": "code",
      "source": [
        "# Cria um array de eventos com a ordem de serem inseridos ou removidos na\n",
        "# varredura linear\n",
        "eventos = criarEventos(segmentos1, segmentos2)"
      ],
      "metadata": {
        "id": "yDJmtzJ8DeJ1"
      },
      "execution_count": 33,
      "outputs": []
    },
    {
      "cell_type": "markdown",
      "source": [
        "#### Parte 3"
      ],
      "metadata": {
        "id": "kt-1x-ykmp5b"
      }
    },
    {
      "cell_type": "code",
      "source": [
        "# Verifica separabilidade linear dos dados\n",
        "if intersecaoEmConjunto(eventos):\n",
        "  print('Dados não linearmente separáveis')\n",
        "else:\n",
        "  print('Dados linearmente separáveis')"
      ],
      "metadata": {
        "colab": {
          "base_uri": "https://localhost:8080/"
        },
        "id": "hu52YAfaDfud",
        "outputId": "d1f6f073-0c57-4ce6-f7da-d8f4e2b7294c"
      },
      "execution_count": 34,
      "outputs": [
        {
          "output_type": "stream",
          "name": "stdout",
          "text": [
            "Dados linearmente separáveis\n"
          ]
        }
      ]
    },
    {
      "cell_type": "markdown",
      "source": [
        "#### Parte 4"
      ],
      "metadata": {
        "id": "ZX2B_5x1msuG"
      }
    },
    {
      "cell_type": "markdown",
      "source": [
        "A construção do modelo leva em consideração o algoritmo de Gilbert–Johnson–Keerthi para detectar colisões, mais especificamente o cálculo da diferença de Minowski para encontrar, para cada ângulo em duas dimensões possível de um vetor, os dois pontos mais próximos e os dois pontos mais distantes entre dois polígonos segundo tal vetor.\n",
        "\n",
        "Nessa aplicação, foi utilizado como estado inicial da busca o ponto na envoltória 1 com maior y e o ponto na envoltória 2 com menor y, o que seriam os dois pontos mais distantes ou mais próximos considerando um vetor vertical. Em seguida o algoritmo iterativamente encontra os próximos pares de pontos, de forma que os pontos sempre são de envoltórias diferentes. É escolhido o par de pontos cuja distância euclidiana é a menor de todas como o par A, D de vértices mais próximos entre as envoltórias. Essa busca iterativa pode ser observada graficamente na função \"encontrarVerticesMaisProximos\" desde que a flag \"plotar\" esteja com o valor True.\n",
        "\n",
        "Seja A o vértice na envoltória 1 e D o vértice na envoltória 2. B e C são vértices tal que AB e AC são lados da envoltória 1 e E e F são vértices tal que DE e DF são lados da envoltória 2. Utilizando esses vértices, o algoritmo encontra a altura dos triângulos ABD, ACD, ADE, ADF.\n",
        "Em seguida, o algoritmo escolhe apenas os triângulos que são acutângulos e compara a altura desses triângulos com a distância entre A e D e escolhe o menor desses segmentos como sendo a menor distância entre as envoltórias.\n",
        "\n",
        "Por fim, para definir a reta de classificação, o algoritmo encontra a reta perpendicular a esse segmento que passa pelo ponto médio do segmento."
      ],
      "metadata": {
        "id": "sNjh_pft58Nv"
      }
    },
    {
      "cell_type": "code",
      "source": [
        "# Encontra os vértices de menor distância entre as envoltórias\n",
        "segmento_min, indice_min_env1, indice_min_env2 = encontrarVerticesMaisProximos(env1, env2, plotar=False)"
      ],
      "metadata": {
        "id": "roxPml-wEEvI"
      },
      "execution_count": 35,
      "outputs": []
    },
    {
      "cell_type": "code",
      "source": [
        "# Encontra os pontos na envoltória que compartilham lado com os vértices mais \n",
        "# próximos de cada envoltória\n",
        "\n",
        "if indice_min_env1 == 0:\n",
        "  indice_prev_env1 = len(env1)-1\n",
        "else:\n",
        "  indice_prev_env1 = indice_min_env1-1\n",
        "\n",
        "if indice_min_env1 == len(env1)-1:\n",
        "  indice_next_env1 = 0\n",
        "else:\n",
        "  indice_next_env1 = indice_min_env1+1\n",
        "\n",
        "if indice_min_env2 == 0:\n",
        "  indice_prev_env2 = len(env2)-1\n",
        "else:\n",
        "  indice_prev_env2 = indice_min_env2-1\n",
        "\n",
        "if indice_min_env2 == len(env2)-1:\n",
        "  indice_next_env2 = 0\n",
        "else:\n",
        "  indice_next_env2 = indice_min_env2+1"
      ],
      "metadata": {
        "id": "Yv6NpCYGOhlK"
      },
      "execution_count": 36,
      "outputs": []
    },
    {
      "cell_type": "code",
      "source": [
        "# Encontra os pontos logo acima e logo abaixo dos pontos mais próximos entre as \n",
        "# envoltórias\n",
        "\n",
        "pontoA = env1[indice_min_env1]\n",
        "pontoB = env1[indice_prev_env1]\n",
        "pontoC = env1[indice_next_env1]\n",
        "pontoD = env2[indice_min_env2]\n",
        "pontoE = env2[indice_prev_env2]\n",
        "pontoF = env2[indice_next_env2]\n",
        "\n",
        "print('A', pontoA.x, pontoA.y)\n",
        "print('B', pontoB.x, pontoB.y)\n",
        "print('C', pontoC.x, pontoC.y)\n",
        "\n",
        "print('D', pontoD.x, pontoF.y)\n",
        "print('E', pontoE.x, pontoE.y)\n",
        "print('F', pontoF.x, pontoF.y)"
      ],
      "metadata": {
        "colab": {
          "base_uri": "https://localhost:8080/"
        },
        "id": "X5lvTp4hPjF6",
        "outputId": "492529ce-ffb2-45c0-8c43-230e62f76089"
      },
      "execution_count": 37,
      "outputs": [
        {
          "output_type": "stream",
          "name": "stdout",
          "text": [
            "A 5.5 3.5\n",
            "B 4.5 2.3\n",
            "C 5.7 3.8\n",
            "D 5.4 2.4\n",
            "E 6.0 3.4\n",
            "F 4.9 2.4\n"
          ]
        }
      ]
    },
    {
      "cell_type": "code",
      "source": [
        "# Verifica os pontos mais proximos entre as envoltórias\n",
        "\n",
        "# Distância entre os dois vértices mais próximos entre as envoltórias\n",
        "distanciaVerticesMaisProximos = distancia(pontoA, pontoD)\n",
        "pontosMaisProximos = Segmento(pontoA, pontoD)\n",
        "menorDistancia = distanciaVerticesMaisProximos\n",
        "\n",
        "# Altura do triangulo ABD\n",
        "rAB = retaDoSegmento(Segmento(pontoA, pontoB))\n",
        "rAB_perpendicular = retaPerpendicular(rAB, pontoD)\n",
        "yRAB_perpendicular = funcaoDaReta(rAB_perpendicular)\n",
        "pAB = pontoDeIntersecao(rAB, rAB_perpendicular)\n",
        "alturaABD = distancia(pAB, pontoD)\n",
        "\n",
        "if alturaABD < menorDistancia and noSegmento(pontoA, pontoB, pAB):\n",
        "  menorDistancia = alturaABD\n",
        "  pontosMaisProximos = Segmento(pAB, pontoD)\n",
        "\n",
        "# Altura do triangulo ACD\n",
        "rAC = retaDoSegmento(Segmento(pontoA, pontoC))\n",
        "rAC_perpendicular = retaPerpendicular(rAC, pontoD)\n",
        "yRAC_perpendicular = funcaoDaReta(rAC_perpendicular)\n",
        "pAC = pontoDeIntersecao(rAC, rAC_perpendicular)\n",
        "alturaACD = distancia(pAC, pontoD)\n",
        "\n",
        "if alturaACD < menorDistancia and noSegmento(pontoA, pontoC, pAC):\n",
        "  menorDistancia = alturaACD\n",
        "  pontosMaisProximos = Segmento(pAC, pontoD)\n",
        "\n",
        "# Altura do triangulo ADE\n",
        "rDE = retaDoSegmento(Segmento(pontoD, pontoE))\n",
        "rDE_perpendicular = retaPerpendicular(rDE, pontoA)\n",
        "yRDE_perpendicular = funcaoDaReta(rDE_perpendicular)\n",
        "pDE = pontoDeIntersecao(rDE, rDE_perpendicular)\n",
        "alturaADE = distancia(pDE, pontoA)\n",
        "\n",
        "if alturaADE < menorDistancia and noSegmento(pontoD, pontoE, pDE):\n",
        "  menorDistancia = alturaADE\n",
        "  pontosMaisProximos = Segmento(pDE, pontoA)\n",
        "\n",
        "# Altura do triangulo ADF\n",
        "rDF = retaDoSegmento(Segmento(pontoD, pontoF))\n",
        "rDF_perpendicular = retaPerpendicular(rDF, pontoA)\n",
        "yRDF_perpendicular = funcaoDaReta(rDF_perpendicular)\n",
        "pDF = pontoDeIntersecao(rDF, rDF_perpendicular)\n",
        "alturaADF = distancia(pDF, pontoA)\n",
        "\n",
        "if alturaADF < menorDistancia and noSegmento(pontoD, pontoF, pDF):\n",
        "  menorDistancia = alturaADF\n",
        "  pontosMaisProximos = Segmento(pDF, pontoA)"
      ],
      "metadata": {
        "id": "RAe4M_nRUP6d"
      },
      "execution_count": 38,
      "outputs": []
    },
    {
      "cell_type": "code",
      "source": [
        "# Reta r que contém o segmento de menor distância entre duas envoltórias\n",
        "r = retaDoSegmento(pontosMaisProximos)\n",
        "\n",
        "# Ponto médio do segmento de menor distância entre duas envoltórias\n",
        "p = Ponto((pontosMaisProximos.esquerda.x + pontosMaisProximos.direita.x)/2, \n",
        "          (pontosMaisProximos.esquerda.y + pontosMaisProximos.direita.y)/2)\n",
        "\n",
        "# Reta r' perpendicular a r\n",
        "r_perpendicular = retaPerpendicular(r, p)\n",
        "\n",
        "# Função da reta r\n",
        "yR_perpendicular = funcaoDaReta(r_perpendicular)"
      ],
      "metadata": {
        "id": "6EdyXCi3EQoy"
      },
      "execution_count": 39,
      "outputs": []
    },
    {
      "cell_type": "code",
      "source": [
        "# Plota as envoltórias\n",
        "fig, ax = plotarParDeEnvoltorias(env1, env2)\n",
        "xlim = ax.get_xlim()\n",
        "ylim = ax.get_ylim()\n",
        "ax.set_xlim(xlim)\n",
        "ax.set_ylim(ylim)\n",
        "\n",
        "# Plota o segmento de menor distância entre as envoltórias\n",
        "ax.plot([pontosMaisProximos.esquerda.x, pontosMaisProximos.direita.x], \n",
        "        [pontosMaisProximos.esquerda.y, pontosMaisProximos.direita.y], 'ko-')\n",
        "\n",
        "# Plota a reta que separa as envoltórias\n",
        "x = np.linspace(xlim[0], xlim[1], 1000)\n",
        "ax.plot(x, yR_perpendicular(x), 'g')\n",
        "\n",
        "ax.legend()\n",
        "plt.show()"
      ],
      "metadata": {
        "colab": {
          "base_uri": "https://localhost:8080/",
          "height": 241
        },
        "id": "ajZbwxDmE9GD",
        "outputId": "79a279fb-5296-49b7-ad6e-e7a7b6704bad"
      },
      "execution_count": 40,
      "outputs": [
        {
          "output_type": "display_data",
          "data": {
            "text/plain": [
              "<Figure size 360x252 with 1 Axes>"
            ],
            "image/png": "[encoded data removed]"
          },
          "metadata": {
            "needs_background": "light"
          }
        }
      ]
    },
    {
      "cell_type": "markdown",
      "source": [
        "#### Parte 5"
      ],
      "metadata": {
        "id": "WryegprTnHvR"
      }
    },
    {
      "cell_type": "markdown",
      "source": [
        "O classificador utiliza a reta de classificação definida na parte anterior para classificar o novo ponto, calculando se o ponto está abaixo ou acima da reta de classificação e qual das classes está acima ou abaixo dessa reta.\n"
      ],
      "metadata": {
        "id": "WBWDuiTN6KeP"
      }
    },
    {
      "cell_type": "code",
      "source": [
        "# Função que determina se um ponto está acima de uma reta\n",
        "def estaAcimaDaReta(ponto, reta):\n",
        "  f = funcaoDaReta(reta)\n",
        "  if f(ponto.x) < ponto.y:\n",
        "    return True\n",
        "  return False"
      ],
      "metadata": {
        "id": "XicO6q_7hgeS"
      },
      "execution_count": 41,
      "outputs": []
    },
    {
      "cell_type": "code",
      "source": [
        "# Define qual das envoltórias está acima da reta\n",
        "if (estaAcimaDaReta(pontosMaisProximos.direita, r_perpendicular) and \n",
        "    pontosMaisProximos.direita == pontoD):\n",
        "  classeAcima = 2\n",
        "else:\n",
        "  classeAcima = 1"
      ],
      "metadata": {
        "id": "NyPihTv5gcQy"
      },
      "execution_count": 42,
      "outputs": []
    },
    {
      "cell_type": "code",
      "source": [
        "# Cria os vetores de labels e guesses com os valores correto e os valores \n",
        "# determinados pelo classificador\n",
        "labels = []\n",
        "guesses = []\n",
        "for row in test.iterrows():\n",
        "  if list(row)[1][2] == classe1:\n",
        "    labels.append(True)\n",
        "  elif list(row)[1][2] == classe2:\n",
        "    labels.append(False)\n",
        "  else:\n",
        "    continue\n",
        "\n",
        "  if estaAcimaDaReta(Ponto(list(row)[1][0], list(row)[1][1]), r_perpendicular):\n",
        "    guesses.append(classeAcima == 1)\n",
        "  else:\n",
        "    guesses.append(classeAcima == 2)"
      ],
      "metadata": {
        "id": "dAG2_M36jSZi"
      },
      "execution_count": 43,
      "outputs": []
    },
    {
      "cell_type": "markdown",
      "source": [
        "#### Parte 6"
      ],
      "metadata": {
        "id": "M2EI_Z7hnNdT"
      }
    },
    {
      "cell_type": "markdown",
      "source": [
        "As métricas de classificação são calculadas utilizando as funções da biblioteca Scikit-Learn. O vetor de labels possui a classe correta dos pontos, definida no arquivo base, e o vetor de guesses possui a resposta que nosso classificador atribuiu a cada ponto."
      ],
      "metadata": {
        "id": "wEC2hJVB6Zb0"
      }
    },
    {
      "cell_type": "code",
      "source": [
        "# Calcula as métricas de classificação\n",
        "print('Precisão:', precision_score(labels, guesses))\n",
        "print('Revocação:', recall_score(labels, guesses))\n",
        "print('f1-escore:', f1_score(labels, guesses))"
      ],
      "metadata": {
        "colab": {
          "base_uri": "https://localhost:8080/"
        },
        "id": "kyzuh3NblQFJ",
        "outputId": "f4d4c596-e7eb-4580-fb6f-9aac832b4f54"
      },
      "execution_count": 44,
      "outputs": [
        {
          "output_type": "stream",
          "name": "stdout",
          "text": [
            "Precisão: 1.0\n",
            "Revocação: 1.0\n",
            "f1-escore: 1.0\n"
          ]
        }
      ]
    },
    {
      "cell_type": "markdown",
      "source": [
        "# Experimento 2 - Pima Indians Diabetes data set"
      ],
      "metadata": {
        "id": "BAoHZ2V94hDL"
      }
    },
    {
      "cell_type": "code",
      "source": [
        "df = pd.read_csv('/content/sample_data/pima.csv')\n",
        "df.drop(df.columns[[0,1,4,5,6,7]], axis=1, inplace=True)\n",
        "df.to_numpy()\n",
        "\n",
        "train, test = train_test_split(df, train_size=0.7)\n",
        "\n",
        "pontos1 = []\n",
        "pontos2 = []\n",
        "for row in train.iterrows():\n",
        "  if list(row)[1][2] == 'tested_positive':\n",
        "    pontos1.append(Ponto(float(list(row)[1][0]), float(list(row)[1][1])))\n",
        "  elif list(row)[1][2] == 'tested_negative':\n",
        "    pontos2.append(Ponto(float(list(row)[1][0]), float(list(row)[1][1])))"
      ],
      "metadata": {
        "id": "QMGBuXRineVc"
      },
      "execution_count": 45,
      "outputs": []
    },
    {
      "cell_type": "code",
      "source": [
        "env1 = envoltoriaConvexa(pontos1)\n",
        "env2 = envoltoriaConvexa(pontos2)"
      ],
      "metadata": {
        "id": "Yc0EmSA8IHrA"
      },
      "execution_count": 46,
      "outputs": []
    },
    {
      "cell_type": "code",
      "source": [
        "plt.plot([env1[0].x, env1[len(env1)-1].x], [env1[0].y, env1[len(env1)-1].y], 'bo-', label = 'tested_positive')\n",
        "for i in range(1, len(env1)):\n",
        "  plt.plot([env1[i].x, env1[i-1].x], [env1[i].y, env1[i-1].y], 'bo-')\n",
        "\n",
        "plt.plot([env2[0].x, env2[len(env2)-1].x], [env2[0].y, env2[len(env2)-1].y], 'ro-', label = 'tested_negative')\n",
        "for i in range(1, len(env2)):\n",
        "  plt.plot([env2[i].x, env2[i-1].x], [env2[i].y, env2[i-1].y], 'ro-')\n",
        "\n",
        "plt.legend()\n",
        "plt.show()"
      ],
      "metadata": {
        "colab": {
          "base_uri": "https://localhost:8080/",
          "height": 265
        },
        "id": "V21kzrRXWTlM",
        "outputId": "87e5e3dc-649e-4db2-9e72-3d39ebf6d563"
      },
      "execution_count": 47,
      "outputs": [
        {
          "output_type": "display_data",
          "data": {
            "text/plain": [
              "<Figure size 432x288 with 1 Axes>"
            ],
            "image/png": "[encoded data removed]"
          },
          "metadata": {
            "needs_background": "light"
          }
        }
      ]
    },
    {
      "cell_type": "code",
      "source": [
        "segmentos1 = segmentosDaEnvoltoria(env1)\n",
        "segmentos2 = segmentosDaEnvoltoria(env2)\n",
        "\n",
        "eventos = criarEventos(segmentos1, segmentos2)"
      ],
      "metadata": {
        "id": "U6r8k8VwoT7B"
      },
      "execution_count": 48,
      "outputs": []
    },
    {
      "cell_type": "code",
      "source": [
        "if intersecaoEmConjunto(eventos):\n",
        "  print('Dados não linearmente separáveis')\n",
        "else:\n",
        "  print('Dados linearmente separáveis')"
      ],
      "metadata": {
        "colab": {
          "base_uri": "https://localhost:8080/"
        },
        "id": "kqKuPqKToZW0",
        "outputId": "f2d9e623-cb59-4c05-ea39-45a3d646a304"
      },
      "execution_count": 49,
      "outputs": [
        {
          "output_type": "stream",
          "name": "stdout",
          "text": [
            "Dados não linearmente separáveis\n"
          ]
        }
      ]
    },
    {
      "cell_type": "markdown",
      "source": [
        "# Experimento 3 - Appendicitis data set"
      ],
      "metadata": {
        "id": "Ygd5gid4pZIv"
      }
    },
    {
      "cell_type": "code",
      "source": [
        "df = pd.read_csv('/content/sample_data/pima.csv')\n",
        "df.drop(df.columns[[1,2,3,4,5,7]], axis=1, inplace=True)\n",
        "df.to_numpy()\n",
        "\n",
        "train, test = train_test_split(df, train_size=0.7)\n",
        "\n",
        "pontos1 = []\n",
        "pontos2 = []\n",
        "for row in train.iterrows():\n",
        "  if list(row)[1][2] == 'tested_positive':\n",
        "    pontos1.append(Ponto(float(list(row)[1][0]), float(list(row)[1][1])))\n",
        "  elif list(row)[1][2] == 'tested_negative':\n",
        "    pontos2.append(Ponto(float(list(row)[1][0]), float(list(row)[1][1])))"
      ],
      "metadata": {
        "id": "7zrj8iCkpZI3"
      },
      "execution_count": 50,
      "outputs": []
    },
    {
      "cell_type": "code",
      "source": [
        "env1 = envoltoriaConvexa(pontos1)\n",
        "env2 = envoltoriaConvexa(pontos2)"
      ],
      "metadata": {
        "id": "VQ3sDIGJpZI3"
      },
      "execution_count": 51,
      "outputs": []
    },
    {
      "cell_type": "code",
      "source": [
        "plt.plot([env1[0].x, env1[len(env1)-1].x], [env1[0].y, env1[len(env1)-1].y], 'bo-', label = 'tested_positive')\n",
        "for i in range(1, len(env1)):\n",
        "  plt.plot([env1[i].x, env1[i-1].x], [env1[i].y, env1[i-1].y], 'bo-')\n",
        "\n",
        "plt.plot([env2[0].x, env2[len(env2)-1].x], [env2[0].y, env2[len(env2)-1].y], 'ro-', label = 'tested_negative')\n",
        "for i in range(1, len(env2)):\n",
        "  plt.plot([env2[i].x, env2[i-1].x], [env2[i].y, env2[i-1].y], 'ro-')\n",
        "\n",
        "plt.legend()\n",
        "plt.show()"
      ],
      "metadata": {
        "colab": {
          "base_uri": "https://localhost:8080/",
          "height": 266
        },
        "outputId": "91ea4f23-c5ce-4990-ef90-814c6c529ccd",
        "id": "d3B03ubjpZI3"
      },
      "execution_count": 52,
      "outputs": [
        {
          "output_type": "display_data",
          "data": {
            "text/plain": [
              "<Figure size 432x288 with 1 Axes>"
            ],
            "image/png": "[encoded data removed]"
          },
          "metadata": {
            "needs_background": "light"
          }
        }
      ]
    },
    {
      "cell_type": "code",
      "source": [
        "segmentos1 = segmentosDaEnvoltoria(env1)\n",
        "segmentos2 = segmentosDaEnvoltoria(env2)\n",
        "\n",
        "eventos = criarEventos(segmentos1, segmentos2)"
      ],
      "metadata": {
        "id": "Fe1czjqApZI4"
      },
      "execution_count": 53,
      "outputs": []
    },
    {
      "cell_type": "code",
      "source": [
        "if intersecaoEmConjunto(eventos):\n",
        "  print('Dados não linearmente separáveis')\n",
        "else:\n",
        "  print('Dados linearmente separáveis')"
      ],
      "metadata": {
        "colab": {
          "base_uri": "https://localhost:8080/"
        },
        "outputId": "0a3dff20-1e87-4208-8136-b0bdc5a2f7c7",
        "id": "cdllpv34pZI4"
      },
      "execution_count": 54,
      "outputs": [
        {
          "output_type": "stream",
          "name": "stdout",
          "text": [
            "Dados não linearmente separáveis\n"
          ]
        }
      ]
    },
    {
      "cell_type": "markdown",
      "source": [
        "# Experimento 4 - South African Hearth data set"
      ],
      "metadata": {
        "id": "reH_K9lktA9N"
      }
    },
    {
      "cell_type": "code",
      "source": [
        "df = pd.read_csv('/content/sample_data/saheart.csv')\n",
        "df.drop(df.columns[[0,1,2,4,6,7,8]], axis=1, inplace=True)\n",
        "df.to_numpy()\n",
        "\n",
        "train, test = train_test_split(df, train_size=0.7)\n",
        "\n",
        "pontos1 = []\n",
        "pontos2 = []\n",
        "for row in train.iterrows():\n",
        "  if list(row)[1][2] == 1:\n",
        "    pontos1.append(Ponto(float(list(row)[1][0]), float(list(row)[1][1])))\n",
        "  elif list(row)[1][2] == 0:\n",
        "    pontos2.append(Ponto(float(list(row)[1][0]), float(list(row)[1][1])))"
      ],
      "metadata": {
        "id": "qQQRlX9otA9V"
      },
      "execution_count": 55,
      "outputs": []
    },
    {
      "cell_type": "code",
      "source": [
        "env1 = envoltoriaConvexa(pontos1)\n",
        "env2 = envoltoriaConvexa(pontos2)"
      ],
      "metadata": {
        "id": "fg9sLtaEtA9W"
      },
      "execution_count": 56,
      "outputs": []
    },
    {
      "cell_type": "code",
      "source": [
        "plt.plot([env1[0].x, env1[len(env1)-1].x], [env1[0].y, env1[len(env1)-1].y], 'bo-', label = '1')\n",
        "for i in range(1, len(env1)):\n",
        "  plt.plot([env1[i].x, env1[i-1].x], [env1[i].y, env1[i-1].y], 'bo-')\n",
        "\n",
        "plt.plot([env2[0].x, env2[len(env2)-1].x], [env2[0].y, env2[len(env2)-1].y], 'ro-', label = '0')\n",
        "for i in range(1, len(env2)):\n",
        "  plt.plot([env2[i].x, env2[i-1].x], [env2[i].y, env2[i-1].y], 'ro-')\n",
        "\n",
        "plt.legend()\n",
        "plt.show()"
      ],
      "metadata": {
        "colab": {
          "base_uri": "https://localhost:8080/",
          "height": 266
        },
        "outputId": "4fbb7d51-d1c2-4ce2-f98c-45e94e5f854f",
        "id": "7j1tmv_HtA9W"
      },
      "execution_count": 57,
      "outputs": [
        {
          "output_type": "display_data",
          "data": {
            "text/plain": [
              "<Figure size 432x288 with 1 Axes>"
            ],
            "image/png": "[encoded data removed]"
          },
          "metadata": {
            "needs_background": "light"
          }
        }
      ]
    },
    {
      "cell_type": "code",
      "source": [
        "segmentos1 = segmentosDaEnvoltoria(env1)\n",
        "segmentos2 = segmentosDaEnvoltoria(env2)\n",
        "\n",
        "eventos = criarEventos(segmentos1, segmentos2)"
      ],
      "metadata": {
        "id": "4scFx97CtA9W"
      },
      "execution_count": 58,
      "outputs": []
    },
    {
      "cell_type": "code",
      "source": [
        "if intersecaoEmConjunto(eventos):\n",
        "  print('Dados não linearmente separáveis')\n",
        "else:\n",
        "  print('Dados linearmente separáveis')"
      ],
      "metadata": {
        "colab": {
          "base_uri": "https://localhost:8080/"
        },
        "outputId": "f8b4ef31-1ec7-40c8-9346-6fc8bbc7ce04",
        "id": "l7JNVYRotA9X"
      },
      "execution_count": 59,
      "outputs": [
        {
          "output_type": "stream",
          "name": "stdout",
          "text": [
            "Dados não linearmente separáveis\n"
          ]
        }
      ]
    },
    {
      "cell_type": "markdown",
      "source": [
        "# Experimento 5 - MAGIC Gamma Telescope data set"
      ],
      "metadata": {
        "id": "GaVwvazotzWG"
      }
    },
    {
      "cell_type": "code",
      "source": [
        "df = pd.read_csv('/content/sample_data/magic.csv')\n",
        "df.drop(df.columns[[2,3,4,5,6,7,8,9]], axis=1, inplace=True)\n",
        "df.to_numpy()\n",
        "\n",
        "train, test = train_test_split(df, train_size=0.7)\n",
        "\n",
        "pontos1 = []\n",
        "pontos2 = []\n",
        "for row in train.iterrows():\n",
        "  if list(row)[1][2] == 'g':\n",
        "    pontos1.append(Ponto(float(list(row)[1][0]), float(list(row)[1][1])))\n",
        "  elif list(row)[1][2] == 'h':\n",
        "    pontos2.append(Ponto(float(list(row)[1][0]), float(list(row)[1][1])))"
      ],
      "metadata": {
        "id": "7_9OYFCBtzWN"
      },
      "execution_count": 60,
      "outputs": []
    },
    {
      "cell_type": "code",
      "source": [
        "env1 = envoltoriaConvexa(pontos1)\n",
        "env2 = envoltoriaConvexa(pontos2)"
      ],
      "metadata": {
        "id": "HHEhznMJtzWO"
      },
      "execution_count": 61,
      "outputs": []
    },
    {
      "cell_type": "code",
      "source": [
        "plt.plot([env1[0].x, env1[len(env1)-1].x], [env1[0].y, env1[len(env1)-1].y], 'bo-', label = 'g')\n",
        "for i in range(1, len(env1)):\n",
        "  plt.plot([env1[i].x, env1[i-1].x], [env1[i].y, env1[i-1].y], 'bo-')\n",
        "\n",
        "plt.plot([env2[0].x, env2[len(env2)-1].x], [env2[0].y, env2[len(env2)-1].y], 'ro-', label = 'h')\n",
        "for i in range(1, len(env2)):\n",
        "  plt.plot([env2[i].x, env2[i-1].x], [env2[i].y, env2[i-1].y], 'ro-')\n",
        "\n",
        "plt.legend()\n",
        "plt.show()"
      ],
      "metadata": {
        "colab": {
          "base_uri": "https://localhost:8080/",
          "height": 265
        },
        "outputId": "4eae00ae-4972-4876-8d08-7618d305bccd",
        "id": "VYPEuJ3OtzWO"
      },
      "execution_count": 62,
      "outputs": [
        {
          "output_type": "display_data",
          "data": {
            "text/plain": [
              "<Figure size 432x288 with 1 Axes>"
            ],
            "image/png": "[encoded data removed]"
          },
          "metadata": {
            "needs_background": "light"
          }
        }
      ]
    },
    {
      "cell_type": "code",
      "source": [
        "segmentos1 = segmentosDaEnvoltoria(env1)\n",
        "segmentos2 = segmentosDaEnvoltoria(env2)\n",
        "\n",
        "eventos = criarEventos(segmentos1, segmentos2)"
      ],
      "metadata": {
        "id": "ZaqWbJddtzWP"
      },
      "execution_count": 63,
      "outputs": []
    },
    {
      "cell_type": "code",
      "source": [
        "if intersecaoEmConjunto(eventos):\n",
        "  print('Dados não linearmente separáveis')\n",
        "else:\n",
        "  print('Dados linearmente separáveis')"
      ],
      "metadata": {
        "colab": {
          "base_uri": "https://localhost:8080/"
        },
        "outputId": "1ae66634-1ca9-474c-fbf4-d61b1e389878",
        "id": "m9eiPTohtzWQ"
      },
      "execution_count": 64,
      "outputs": [
        {
          "output_type": "stream",
          "name": "stdout",
          "text": [
            "Dados não linearmente separáveis\n"
          ]
        }
      ]
    },
    {
      "cell_type": "markdown",
      "source": [
        "# Experimento 6 - Haberman's Survival data set"
      ],
      "metadata": {
        "id": "xi0waW8ovCez"
      }
    },
    {
      "cell_type": "code",
      "source": [
        "df = pd.read_csv('/content/sample_data/haberman.csv')\n",
        "df.drop(df.columns[[1]], axis=1, inplace=True)\n",
        "df.to_numpy()\n",
        "\n",
        "train, test = train_test_split(df, train_size=0.7)\n",
        "\n",
        "pontos1 = []\n",
        "pontos2 = []\n",
        "for row in train.iterrows():\n",
        "  if list(row)[1][2] == ' negative':\n",
        "    pontos1.append(Ponto(float(list(row)[1][0]), float(list(row)[1][1])))\n",
        "  elif list(row)[1][2] == ' positive':\n",
        "    pontos2.append(Ponto(float(list(row)[1][0]), float(list(row)[1][1])))"
      ],
      "metadata": {
        "id": "9FL9_VUovCe7"
      },
      "execution_count": 65,
      "outputs": []
    },
    {
      "cell_type": "code",
      "source": [
        "env1 = envoltoriaConvexa(pontos1)\n",
        "env2 = envoltoriaConvexa(pontos2)"
      ],
      "metadata": {
        "id": "9cCTulrovCe8"
      },
      "execution_count": 66,
      "outputs": []
    },
    {
      "cell_type": "code",
      "source": [
        "plt.plot([env1[0].x, env1[len(env1)-1].x], [env1[0].y, env1[len(env1)-1].y], 'bo-', label = 'g')\n",
        "for i in range(1, len(env1)):\n",
        "  plt.plot([env1[i].x, env1[i-1].x], [env1[i].y, env1[i-1].y], 'bo-')\n",
        "\n",
        "plt.plot([env2[0].x, env2[len(env2)-1].x], [env2[0].y, env2[len(env2)-1].y], 'ro-', label = 'h')\n",
        "for i in range(1, len(env2)):\n",
        "  plt.plot([env2[i].x, env2[i-1].x], [env2[i].y, env2[i-1].y], 'ro-')\n",
        "\n",
        "plt.legend()\n",
        "plt.show()"
      ],
      "metadata": {
        "colab": {
          "base_uri": "https://localhost:8080/",
          "height": 265
        },
        "outputId": "d0a36f9e-7587-4d3f-9891-b83be750ce58",
        "id": "RjBBnjDovCe8"
      },
      "execution_count": 67,
      "outputs": [
        {
          "output_type": "display_data",
          "data": {
            "text/plain": [
              "<Figure size 432x288 with 1 Axes>"
            ],
            "image/png": "[encoded data removed]"
          },
          "metadata": {
            "needs_background": "light"
          }
        }
      ]
    },
    {
      "cell_type": "code",
      "source": [
        "segmentos1 = segmentosDaEnvoltoria(env1)\n",
        "segmentos2 = segmentosDaEnvoltoria(env2)\n",
        "\n",
        "eventos = criarEventos(segmentos1, segmentos2)"
      ],
      "metadata": {
        "id": "5rR0jz-WvCe8"
      },
      "execution_count": 68,
      "outputs": []
    },
    {
      "cell_type": "code",
      "source": [
        "if intersecaoEmConjunto(eventos):\n",
        "  print('Dados não linearmente separáveis')\n",
        "else:\n",
        "  print('Dados linearmente separáveis')"
      ],
      "metadata": {
        "colab": {
          "base_uri": "https://localhost:8080/"
        },
        "outputId": "37c5426f-9aa5-45dc-eb76-1cb8e757f87d",
        "id": "lMaxjrtkvCe9"
      },
      "execution_count": 69,
      "outputs": [
        {
          "output_type": "stream",
          "name": "stdout",
          "text": [
            "Dados linearmente separáveis\n"
          ]
        }
      ]
    },
    {
      "cell_type": "markdown",
      "source": [
        "# Experimento 7 - Phoneme data set"
      ],
      "metadata": {
        "id": "ExDxMHHUvYbB"
      }
    },
    {
      "cell_type": "code",
      "source": [
        "df = pd.read_csv('/content/sample_data/phoneme.csv')\n",
        "df.drop(df.columns[[2,3,4]], axis=1, inplace=True)\n",
        "df.to_numpy()\n",
        "\n",
        "train, test = train_test_split(df, train_size=0.7)\n",
        "\n",
        "pontos1 = []\n",
        "pontos2 = []\n",
        "for row in train.iterrows():\n",
        "  if list(row)[1][2] == 0:\n",
        "    pontos1.append(Ponto(float(list(row)[1][0]), float(list(row)[1][1])))\n",
        "  elif list(row)[1][2] == 1:\n",
        "    pontos2.append(Ponto(float(list(row)[1][0]), float(list(row)[1][1])))"
      ],
      "metadata": {
        "id": "vS6vqIjMvYbC"
      },
      "execution_count": 70,
      "outputs": []
    },
    {
      "cell_type": "code",
      "source": [
        "env1 = envoltoriaConvexa(pontos1)\n",
        "env2 = envoltoriaConvexa(pontos2)"
      ],
      "metadata": {
        "id": "xhHX8SthvYbD"
      },
      "execution_count": 71,
      "outputs": []
    },
    {
      "cell_type": "code",
      "source": [
        "plt.plot([env1[0].x, env1[len(env1)-1].x], [env1[0].y, env1[len(env1)-1].y], 'bo-', label = '0')\n",
        "for i in range(1, len(env1)):\n",
        "  plt.plot([env1[i].x, env1[i-1].x], [env1[i].y, env1[i-1].y], 'bo-')\n",
        "\n",
        "plt.plot([env2[0].x, env2[len(env2)-1].x], [env2[0].y, env2[len(env2)-1].y], 'ro-', label = '1')\n",
        "for i in range(1, len(env2)):\n",
        "  plt.plot([env2[i].x, env2[i-1].x], [env2[i].y, env2[i-1].y], 'ro-')\n",
        "\n",
        "plt.legend()\n",
        "plt.show()"
      ],
      "metadata": {
        "colab": {
          "base_uri": "https://localhost:8080/",
          "height": 265
        },
        "outputId": "4cab0e8b-1931-4744-fcc2-345f7697ba8f",
        "id": "8t82XMxbvYbD"
      },
      "execution_count": 72,
      "outputs": [
        {
          "output_type": "display_data",
          "data": {
            "text/plain": [
              "<Figure size 432x288 with 1 Axes>"
            ],
            "image/png": "[encoded data removed]"
          },
          "metadata": {
            "needs_background": "light"
          }
        }
      ]
    },
    {
      "cell_type": "code",
      "source": [
        "segmentos1 = segmentosDaEnvoltoria(env1)\n",
        "segmentos2 = segmentosDaEnvoltoria(env2)\n",
        "\n",
        "eventos = criarEventos(segmentos1, segmentos2)"
      ],
      "metadata": {
        "id": "H9hfy1YyvYbE"
      },
      "execution_count": 73,
      "outputs": []
    },
    {
      "cell_type": "code",
      "source": [
        "if intersecaoEmConjunto(eventos):\n",
        "  print('Dados não linearmente separáveis')\n",
        "else:\n",
        "  print('Dados linearmente separáveis')"
      ],
      "metadata": {
        "colab": {
          "base_uri": "https://localhost:8080/"
        },
        "outputId": "dc411810-68f1-4c50-b277-45b495f93066",
        "id": "epoBTjxevYbE"
      },
      "execution_count": 74,
      "outputs": [
        {
          "output_type": "stream",
          "name": "stdout",
          "text": [
            "Dados não linearmente separáveis\n"
          ]
        }
      ]
    },
    {
      "cell_type": "markdown",
      "source": [
        "# Experimento 8 - Liver Disorders (BUPA) data set"
      ],
      "metadata": {
        "id": "FLPGogRHvZHx"
      }
    },
    {
      "cell_type": "code",
      "source": [
        "df = pd.read_csv('/content/sample_data/bupa.csv')\n",
        "df.drop(df.columns[[1,2,3,4]], axis=1, inplace=True)\n",
        "df.to_numpy()\n",
        "\n",
        "train, test = train_test_split(df, train_size=0.7)\n",
        "\n",
        "pontos1 = []\n",
        "pontos2 = []\n",
        "for row in train.iterrows():\n",
        "  if list(row)[1][2] == 1:\n",
        "    pontos1.append(Ponto(float(list(row)[1][0]), float(list(row)[1][1])))\n",
        "  elif list(row)[1][2] == 2:\n",
        "    pontos2.append(Ponto(float(list(row)[1][0]), float(list(row)[1][1])))"
      ],
      "metadata": {
        "id": "_2eMuv1pvZHy"
      },
      "execution_count": 75,
      "outputs": []
    },
    {
      "cell_type": "code",
      "source": [
        "env1 = envoltoriaConvexa(pontos1)\n",
        "env2 = envoltoriaConvexa(pontos2)"
      ],
      "metadata": {
        "id": "LqVlsD71vZHz"
      },
      "execution_count": 76,
      "outputs": []
    },
    {
      "cell_type": "code",
      "source": [
        "plt.plot([env1[0].x, env1[len(env1)-1].x], [env1[0].y, env1[len(env1)-1].y], 'bo-', label = '1')\n",
        "for i in range(1, len(env1)):\n",
        "  plt.plot([env1[i].x, env1[i-1].x], [env1[i].y, env1[i-1].y], 'bo-')\n",
        "\n",
        "plt.plot([env2[0].x, env2[len(env2)-1].x], [env2[0].y, env2[len(env2)-1].y], 'ro-', label = '2')\n",
        "for i in range(1, len(env2)):\n",
        "  plt.plot([env2[i].x, env2[i-1].x], [env2[i].y, env2[i-1].y], 'ro-')\n",
        "\n",
        "plt.legend()\n",
        "plt.show()"
      ],
      "metadata": {
        "colab": {
          "base_uri": "https://localhost:8080/",
          "height": 265
        },
        "outputId": "507590cb-5814-4710-d66e-16eaa1f6a185",
        "id": "FA0akyo4vZHz"
      },
      "execution_count": 77,
      "outputs": [
        {
          "output_type": "display_data",
          "data": {
            "text/plain": [
              "<Figure size 432x288 with 1 Axes>"
            ],
            "image/png": "[encoded data removed]"
          },
          "metadata": {
            "needs_background": "light"
          }
        }
      ]
    },
    {
      "cell_type": "code",
      "source": [
        "segmentos1 = segmentosDaEnvoltoria(env1)\n",
        "segmentos2 = segmentosDaEnvoltoria(env2)\n",
        "\n",
        "eventos = criarEventos(segmentos1, segmentos2)"
      ],
      "metadata": {
        "id": "rjufMNhmvZH0"
      },
      "execution_count": 78,
      "outputs": []
    },
    {
      "cell_type": "code",
      "source": [
        "if intersecaoEmConjunto(eventos):\n",
        "  print('Dados não linearmente separáveis')\n",
        "else:\n",
        "  print('Dados linearmente separáveis')"
      ],
      "metadata": {
        "colab": {
          "base_uri": "https://localhost:8080/"
        },
        "outputId": "e9f44f30-d8cb-4d75-a970-023bbcc6c26e",
        "id": "KlmKU_GVvZH0"
      },
      "execution_count": 79,
      "outputs": [
        {
          "output_type": "stream",
          "name": "stdout",
          "text": [
            "Dados linearmente separáveis\n"
          ]
        }
      ]
    },
    {
      "cell_type": "markdown",
      "source": [
        "# Experimento 9 - Titanic data set"
      ],
      "metadata": {
        "id": "1R-tmFagvZUW"
      }
    },
    {
      "cell_type": "code",
      "source": [
        "df = pd.read_csv('/content/sample_data/titanic.csv')\n",
        "df.drop(df.columns[[2]], axis=1, inplace=True)\n",
        "df.to_numpy()\n",
        "\n",
        "train, test = train_test_split(df, train_size=0.7)\n",
        "\n",
        "pontos1 = []\n",
        "pontos2 = []\n",
        "for row in train.iterrows():\n",
        "  if list(row)[1][2] == -1:\n",
        "    pontos1.append(Ponto(float(list(row)[1][0]), float(list(row)[1][1])))\n",
        "  elif list(row)[1][2] == 1:\n",
        "    pontos2.append(Ponto(float(list(row)[1][0]), float(list(row)[1][1])))"
      ],
      "metadata": {
        "id": "T5UQdXt-vZUX"
      },
      "execution_count": 80,
      "outputs": []
    },
    {
      "cell_type": "code",
      "source": [
        "env1 = envoltoriaConvexa(pontos1)\n",
        "env2 = envoltoriaConvexa(pontos2)"
      ],
      "metadata": {
        "id": "bHTfyLX4vZUX"
      },
      "execution_count": 81,
      "outputs": []
    },
    {
      "cell_type": "code",
      "source": [
        "plt.plot([env1[0].x, env1[len(env1)-1].x], [env1[0].y, env1[len(env1)-1].y], 'bo-', label = '-1')\n",
        "for i in range(1, len(env1)):\n",
        "  plt.plot([env1[i].x, env1[i-1].x], [env1[i].y, env1[i-1].y], 'bo-')\n",
        "\n",
        "plt.plot([env2[0].x, env2[len(env2)-1].x], [env2[0].y, env2[len(env2)-1].y], 'ro-', label = '1')\n",
        "for i in range(1, len(env2)):\n",
        "  plt.plot([env2[i].x, env2[i-1].x], [env2[i].y, env2[i-1].y], 'ro-')\n",
        "\n",
        "plt.legend()\n",
        "plt.show()"
      ],
      "metadata": {
        "colab": {
          "base_uri": "https://localhost:8080/",
          "height": 265
        },
        "outputId": "c36171f6-b2ed-43de-c1f7-de1528ac20c9",
        "id": "qIk5ZGlevZUX"
      },
      "execution_count": 82,
      "outputs": [
        {
          "output_type": "display_data",
          "data": {
            "text/plain": [
              "<Figure size 432x288 with 1 Axes>"
            ],
            "image/png": "[encoded data removed]"
          },
          "metadata": {
            "needs_background": "light"
          }
        }
      ]
    },
    {
      "cell_type": "code",
      "source": [
        "segmentos1 = segmentosDaEnvoltoria(env1)\n",
        "segmentos2 = segmentosDaEnvoltoria(env2)\n",
        "\n",
        "eventos = criarEventos(segmentos1, segmentos2)"
      ],
      "metadata": {
        "id": "CMZktLGHvZUX"
      },
      "execution_count": 83,
      "outputs": []
    },
    {
      "cell_type": "code",
      "source": [
        "if intersecaoEmConjunto(eventos):\n",
        "  print('Dados não linearmente separáveis')\n",
        "else:\n",
        "  print('Dados linearmente separáveis')"
      ],
      "metadata": {
        "colab": {
          "base_uri": "https://localhost:8080/"
        },
        "outputId": "b0d6d1e3-b992-48f3-d423-4dca703ca227",
        "id": "65nzhRhJvZUY"
      },
      "execution_count": 84,
      "outputs": [
        {
          "output_type": "stream",
          "name": "stdout",
          "text": [
            "Dados não linearmente separáveis\n"
          ]
        }
      ]
    },
    {
      "cell_type": "markdown",
      "source": [
        "# Experimento 10 - Wine data set"
      ],
      "metadata": {
        "id": "6DgJfta0vZhd"
      }
    },
    {
      "cell_type": "code",
      "source": [
        "df = pd.read_csv('/content/sample_data/wine.csv')\n",
        "df.drop(df.columns[[1,2,3,4,5,7,8,9,10,11,12]], axis=1, inplace=True)\n",
        "df.to_numpy()\n",
        "\n",
        "train, test = train_test_split(df, train_size=0.7)\n",
        "\n",
        "pontos1 = []\n",
        "pontos2 = []\n",
        "for row in train.iterrows():\n",
        "  if list(row)[1][2] == 1:\n",
        "    pontos1.append(Ponto(float(list(row)[1][0]), float(list(row)[1][1])))\n",
        "  elif list(row)[1][2] == 3:\n",
        "    pontos2.append(Ponto(float(list(row)[1][0]), float(list(row)[1][1])))"
      ],
      "metadata": {
        "id": "bkrDsbS6vZhe"
      },
      "execution_count": 85,
      "outputs": []
    },
    {
      "cell_type": "code",
      "source": [
        "env1 = envoltoriaConvexa(pontos1)\n",
        "env2 = envoltoriaConvexa(pontos2)"
      ],
      "metadata": {
        "id": "3N9id7gPvZhf"
      },
      "execution_count": 86,
      "outputs": []
    },
    {
      "cell_type": "code",
      "source": [
        "plt.plot([env1[0].x, env1[len(env1)-1].x], [env1[0].y, env1[len(env1)-1].y], 'bo-', label = '1')\n",
        "for i in range(1, len(env1)):\n",
        "  plt.plot([env1[i].x, env1[i-1].x], [env1[i].y, env1[i-1].y], 'bo-')\n",
        "\n",
        "plt.plot([env2[0].x, env2[len(env2)-1].x], [env2[0].y, env2[len(env2)-1].y], 'ro-', label = '3')\n",
        "for i in range(1, len(env2)):\n",
        "  plt.plot([env2[i].x, env2[i-1].x], [env2[i].y, env2[i-1].y], 'ro-')\n",
        "\n",
        "plt.legend()\n",
        "plt.show()"
      ],
      "metadata": {
        "colab": {
          "base_uri": "https://localhost:8080/",
          "height": 265
        },
        "outputId": "6c78a8a1-1af2-42d7-8766-2e883a862492",
        "id": "_MnebXpzvZhg"
      },
      "execution_count": 87,
      "outputs": [
        {
          "output_type": "display_data",
          "data": {
            "text/plain": [
              "<Figure size 432x288 with 1 Axes>"
            ],
            "image/png": "[encoded data removed]"
          },
          "metadata": {
            "needs_background": "light"
          }
        }
      ]
    },
    {
      "cell_type": "code",
      "source": [
        "segmentos1 = segmentosDaEnvoltoria(env1)\n",
        "segmentos2 = segmentosDaEnvoltoria(env2)\n",
        "\n",
        "eventos = criarEventos(segmentos1, segmentos2)"
      ],
      "metadata": {
        "id": "cm8fjkD5vZhg"
      },
      "execution_count": 88,
      "outputs": []
    },
    {
      "cell_type": "code",
      "source": [
        "if intersecaoEmConjunto(eventos):\n",
        "  print('Dados não linearmente separáveis')\n",
        "else:\n",
        "  print('Dados linearmente separáveis')"
      ],
      "metadata": {
        "colab": {
          "base_uri": "https://localhost:8080/"
        },
        "outputId": "09bf1157-82ec-43bb-c7ce-11b1deeffbee",
        "id": "WAl24EA1vZhh"
      },
      "execution_count": 89,
      "outputs": [
        {
          "output_type": "stream",
          "name": "stdout",
          "text": [
            "Dados linearmente separáveis\n"
          ]
        }
      ]
    },
    {
      "cell_type": "code",
      "source": [
        "# Encontra os vértices de menor distância entre as envoltórias\n",
        "segmento_min, indice_min_env1, indice_min_env2 = encontrarVerticesMaisProximos(env1, env2, plotar=False)"
      ],
      "metadata": {
        "id": "o3xkGC-Yzc4r"
      },
      "execution_count": 90,
      "outputs": []
    },
    {
      "cell_type": "code",
      "source": [
        "# Encontra os pontos na envoltória que compartilham lado com os vértices mais \n",
        "# próximos de cada envoltória\n",
        "\n",
        "if indice_min_env1 == 0:\n",
        "  indice_prev_env1 = len(env1)-1\n",
        "else:\n",
        "  indice_prev_env1 = indice_min_env1-1\n",
        "\n",
        "if indice_min_env1 == len(env1)-1:\n",
        "  indice_next_env1 = 0\n",
        "else:\n",
        "  indice_next_env1 = indice_min_env1+1\n",
        "\n",
        "if indice_min_env2 == 0:\n",
        "  indice_prev_env2 = len(env2)-1\n",
        "else:\n",
        "  indice_prev_env2 = indice_min_env2-1\n",
        "\n",
        "if indice_min_env2 == len(env2)-1:\n",
        "  indice_next_env2 = 0\n",
        "else:\n",
        "  indice_next_env2 = indice_min_env2+1"
      ],
      "metadata": {
        "id": "-AE9kc6-zdwq"
      },
      "execution_count": 91,
      "outputs": []
    },
    {
      "cell_type": "code",
      "source": [
        "# Encontra os pontos logo acima e logo abaixo dos pontos mais próximos entre as \n",
        "# envoltórias\n",
        "\n",
        "pontoA = env1[indice_min_env1]\n",
        "pontoB = env1[indice_prev_env1]\n",
        "pontoC = env1[indice_next_env1]\n",
        "pontoD = env2[indice_min_env2]\n",
        "pontoE = env2[indice_prev_env2]\n",
        "pontoF = env2[indice_next_env2]\n",
        "\n",
        "print('A', pontoA.x, pontoA.y)\n",
        "print('B', pontoB.x, pontoB.y)\n",
        "print('C', pontoC.x, pontoC.y)\n",
        "\n",
        "print('D', pontoD.x, pontoF.y)\n",
        "print('E', pontoE.x, pontoE.y)\n",
        "print('F', pontoF.x, pontoF.y)"
      ],
      "metadata": {
        "colab": {
          "base_uri": "https://localhost:8080/"
        },
        "id": "sXj6EMLAzjne",
        "outputId": "36583b8e-e788-49ee-8aa4-9dd43509b349"
      },
      "execution_count": 92,
      "outputs": [
        {
          "output_type": "stream",
          "name": "stdout",
          "text": [
            "A 13.3 2.19\n",
            "B 12.93 2.41\n",
            "C 14.12 2.43\n",
            "D 12.79 0.92\n",
            "E 14.34 1.31\n",
            "F 12.36 0.92\n"
          ]
        }
      ]
    },
    {
      "cell_type": "code",
      "source": [
        "# Verifica os pontos mais proximos entre as envoltórias\n",
        "\n",
        "# Distância entre os dois vértices mais próximos entre as envoltórias\n",
        "distanciaVerticesMaisProximos = distancia(pontoA, pontoD)\n",
        "pontosMaisProximos = Segmento(pontoA, pontoD)\n",
        "menorDistancia = distanciaVerticesMaisProximos\n",
        "\n",
        "# Altura do triangulo ABD\n",
        "rAB = retaDoSegmento(Segmento(pontoA, pontoB))\n",
        "rAB_perpendicular = retaPerpendicular(rAB, pontoD)\n",
        "yRAB_perpendicular = funcaoDaReta(rAB_perpendicular)\n",
        "pAB = pontoDeIntersecao(rAB, rAB_perpendicular)\n",
        "alturaABD = distancia(pAB, pontoD)\n",
        "\n",
        "if alturaABD < menorDistancia and noSegmento(pontoA, pontoB, pAB):\n",
        "  menorDistancia = alturaABD\n",
        "  pontosMaisProximos = Segmento(pAB, pontoD)\n",
        "\n",
        "# Altura do triangulo ACD\n",
        "rAC = retaDoSegmento(Segmento(pontoA, pontoC))\n",
        "rAC_perpendicular = retaPerpendicular(rAC, pontoD)\n",
        "yRAC_perpendicular = funcaoDaReta(rAC_perpendicular)\n",
        "pAC = pontoDeIntersecao(rAC, rAC_perpendicular)\n",
        "alturaACD = distancia(pAC, pontoD)\n",
        "\n",
        "if alturaACD < menorDistancia and noSegmento(pontoA, pontoC, pAC):\n",
        "  menorDistancia = alturaACD\n",
        "  pontosMaisProximos = Segmento(pAC, pontoD)\n",
        "\n",
        "# Altura do triangulo ADE\n",
        "rDE = retaDoSegmento(Segmento(pontoD, pontoE))\n",
        "rDE_perpendicular = retaPerpendicular(rDE, pontoA)\n",
        "yRDE_perpendicular = funcaoDaReta(rDE_perpendicular)\n",
        "pDE = pontoDeIntersecao(rDE, rDE_perpendicular)\n",
        "alturaADE = distancia(pDE, pontoA)\n",
        "\n",
        "if alturaADE < menorDistancia and noSegmento(pontoD, pontoE, pDE):\n",
        "  menorDistancia = alturaADE\n",
        "  pontosMaisProximos = Segmento(pDE, pontoA)\n",
        "\n",
        "# Altura do triangulo ADF\n",
        "rDF = retaDoSegmento(Segmento(pontoD, pontoF))\n",
        "rDF_perpendicular = retaPerpendicular(rDF, pontoA)\n",
        "yRDF_perpendicular = funcaoDaReta(rDF_perpendicular)\n",
        "pDF = pontoDeIntersecao(rDF, rDF_perpendicular)\n",
        "alturaADF = distancia(pDF, pontoA)\n",
        "\n",
        "if alturaADF < menorDistancia and noSegmento(pontoD, pontoF, pDF):\n",
        "  menorDistancia = alturaADF\n",
        "  pontosMaisProximos = Segmento(pDF, pontoA)"
      ],
      "metadata": {
        "id": "4dCC3eNHzkeB"
      },
      "execution_count": 93,
      "outputs": []
    },
    {
      "cell_type": "code",
      "source": [
        "# Reta r que contém o segmento de menor distância entre duas envoltórias\n",
        "r = retaDoSegmento(pontosMaisProximos)\n",
        "\n",
        "# Ponto médio do segmento de menor distância entre duas envoltórias\n",
        "p = Ponto((pontosMaisProximos.esquerda.x + pontosMaisProximos.direita.x)/2, \n",
        "          (pontosMaisProximos.esquerda.y + pontosMaisProximos.direita.y)/2)\n",
        "\n",
        "# Reta r' perpendicular a r\n",
        "r_perpendicular = retaPerpendicular(r, p)\n",
        "\n",
        "# Função da reta r\n",
        "yR_perpendicular = funcaoDaReta(r_perpendicular)"
      ],
      "metadata": {
        "id": "ZVe9w1qsznV0"
      },
      "execution_count": 94,
      "outputs": []
    },
    {
      "cell_type": "code",
      "source": [
        "# Plota as envoltórias\n",
        "fig, ax = plotarParDeEnvoltorias(env1, env2)\n",
        "xlim = ax.get_xlim()\n",
        "ylim = ax.get_ylim()\n",
        "ax.set_xlim(xlim)\n",
        "ax.set_ylim(ylim)\n",
        "\n",
        "# Plota o segmento de menor distância entre as envoltórias\n",
        "ax.plot([pontosMaisProximos.esquerda.x, pontosMaisProximos.direita.x], \n",
        "        [pontosMaisProximos.esquerda.y, pontosMaisProximos.direita.y], 'ko-')\n",
        "\n",
        "# Plota a reta que separa as envoltórias\n",
        "x = np.linspace(xlim[0], xlim[1], 1000)\n",
        "ax.plot(x, yR_perpendicular(x), 'g')\n",
        "\n",
        "ax.legend()\n",
        "plt.show()"
      ],
      "metadata": {
        "colab": {
          "base_uri": "https://localhost:8080/",
          "height": 238
        },
        "id": "6rodpAlozp-P",
        "outputId": "4e50b93a-ebd7-4428-cacc-1802c92c0961"
      },
      "execution_count": 95,
      "outputs": [
        {
          "output_type": "display_data",
          "data": {
            "text/plain": [
              "<Figure size 360x252 with 1 Axes>"
            ],
            "image/png": "[encoded data removed]"
          },
          "metadata": {
            "needs_background": "light"
          }
        }
      ]
    }
  ]
}